{
 "cells": [
  {
   "cell_type": "markdown",
   "id": "4a4719ce",
   "metadata": {},
   "source": [
    "## Test notebook"
   ]
  },
  {
   "cell_type": "markdown",
   "id": "4864fc2e",
   "metadata": {},
   "source": [
    "## Imports"
   ]
  },
  {
   "cell_type": "code",
   "execution_count": 1,
   "id": "d784f5f8",
   "metadata": {},
   "outputs": [
    {
     "ename": "ModuleNotFoundError",
     "evalue": "No module named 'treefarms.treefarms'",
     "output_type": "error",
     "traceback": [
      "\u001b[0;31m---------------------------------------------------------------------------\u001b[0m",
      "\u001b[0;31mModuleNotFoundError\u001b[0m                       Traceback (most recent call last)",
      "Cell \u001b[0;32mIn[1], line 7\u001b[0m\n\u001b[1;32m      5\u001b[0m \u001b[38;5;66;03m# Import all the components from your refactored code\u001b[39;00m\n\u001b[1;32m      6\u001b[0m \u001b[38;5;28;01mfrom\u001b[39;00m \u001b[38;5;21;01mutils\u001b[39;00m\u001b[38;5;21;01m.\u001b[39;00m\u001b[38;5;21;01mdata_handler\u001b[39;00m \u001b[38;5;28;01mimport\u001b[39;00m load_data, split_data\n\u001b[0;32m----> 7\u001b[0m \u001b[38;5;28;01mfrom\u001b[39;00m \u001b[38;5;21;01mutils\u001b[39;00m\u001b[38;5;21;01m.\u001b[39;00m\u001b[38;5;21;01mmodels\u001b[39;00m \u001b[38;5;28;01mimport\u001b[39;00m TreeFarmsWrapper, RandomForestWrapper, BNNWrapper, GaussianProcessWrapper\n\u001b[1;32m      8\u001b[0m \u001b[38;5;28;01mfrom\u001b[39;00m \u001b[38;5;21;01mutils\u001b[39;00m\u001b[38;5;21;01m.\u001b[39;00m\u001b[38;5;21;01mselectors\u001b[39;00m \u001b[38;5;28;01mimport\u001b[39;00m PassiveSelector, QBCSelector, BALDSelector\n\u001b[1;32m      9\u001b[0m \u001b[38;5;28;01mfrom\u001b[39;00m \u001b[38;5;21;01mutils\u001b[39;00m\u001b[38;5;21;01m.\u001b[39;00m\u001b[38;5;21;01mlearning_procedure\u001b[39;00m \u001b[38;5;28;01mimport\u001b[39;00m SimulationConfig, run_learning_procedure, SimulationResult\n",
      "File \u001b[0;32m~/Documents/RashomonActiveLearning/src/utils/models.py:21\u001b[0m\n\u001b[1;32m     19\u001b[0m \u001b[38;5;28;01mfrom\u001b[39;00m \u001b[38;5;21;01msklearn\u001b[39;00m\u001b[38;5;21;01m.\u001b[39;00m\u001b[38;5;21;01mgaussian_process\u001b[39;00m\u001b[38;5;21;01m.\u001b[39;00m\u001b[38;5;21;01mkernels\u001b[39;00m \u001b[38;5;28;01mimport\u001b[39;00m RBF\n\u001b[1;32m     20\u001b[0m \u001b[38;5;28;01mfrom\u001b[39;00m \u001b[38;5;21;01msklearn\u001b[39;00m\u001b[38;5;21;01m.\u001b[39;00m\u001b[38;5;21;01mmetrics\u001b[39;00m \u001b[38;5;28;01mimport\u001b[39;00m f1_score, accuracy_score\n\u001b[0;32m---> 21\u001b[0m \u001b[38;5;28;01mfrom\u001b[39;00m \u001b[38;5;21;01mtreefarms\u001b[39;00m\u001b[38;5;21;01m.\u001b[39;00m\u001b[38;5;21;01mtreefarms\u001b[39;00m\u001b[38;5;21;01m.\u001b[39;00m\u001b[38;5;21;01mmodel\u001b[39;00m\u001b[38;5;21;01m.\u001b[39;00m\u001b[38;5;21;01mtreefarms\u001b[39;00m \u001b[38;5;28;01mimport\u001b[39;00m TREEFARMS\n\u001b[1;32m     23\u001b[0m \u001b[38;5;66;03m### MODEL WRAPPER INTERFACE ###\u001b[39;00m\n\u001b[1;32m     24\u001b[0m \u001b[38;5;28;01mclass\u001b[39;00m \u001b[38;5;21;01mModelWrapper\u001b[39;00m(ABC):\n",
      "\u001b[0;31mModuleNotFoundError\u001b[0m: No module named 'treefarms.treefarms'"
     ]
    }
   ],
   "source": [
    "import pickle\n",
    "import matplotlib.pyplot as plt\n",
    "from pathlib import Path\n",
    "\n",
    "# Import all the components from your refactored code\n",
    "from utils.data_handler import load_data, split_data\n",
    "from utils.models import TreeFarmsWrapper, RandomForestWrapper, BNNWrapper, GaussianProcessWrapper\n",
    "from utils.selectors import PassiveSelector, QBCSelector, BALDSelector\n",
    "from utils.learning_procedure import SimulationConfig, run_learning_procedure, SimulationResult"
   ]
  },
  {
   "cell_type": "markdown",
   "id": "5675f9f0",
   "metadata": {},
   "source": [
    "## Experiment Configurations"
   ]
  },
  {
   "cell_type": "code",
   "execution_count": null,
   "id": "ff9897c0",
   "metadata": {},
   "outputs": [],
   "source": [
    "# --- Main Configuration ---\n",
    "DATASET_NAME = \"Iris\"\n",
    "MODEL_NAME = \"RandomForest\"\n",
    "SELECTOR_NAME = \"Passive\"\n",
    "SEED = 123\n",
    "\n",
    "# --- Model & Selector Specific Parameters ---\n",
    "# Add any parameters your chosen model or selector needs\n",
    "ADDITIONAL_CONFIG = {\n",
    "    \"n_estimators\": 100,\n",
    "    \"use_unique_trees\": True, # For QBCSelector\n",
    "    \"rashomon_threshold\": 0.03, # For TreeFarmsWrapper\n",
    "    \"regularization\": 0.01 # For TreeFarmsWrapper\n",
    "}"
   ]
  },
  {
   "cell_type": "markdown",
   "id": "0a09199e",
   "metadata": {},
   "source": [
    "## Set up and run"
   ]
  },
  {
   "cell_type": "code",
   "execution_count": null,
   "id": "74c1bfb9",
   "metadata": {},
   "outputs": [],
   "source": [
    "# Registries to map names to classes\n",
    "MODEL_REGISTRY = {\n",
    "    \"TreeFarms\": TreeFarmsWrapper,\n",
    "    \"RandomForest\": RandomForestWrapper,\n",
    "    \"GPC\": GaussianProcessWrapper,\n",
    "    \"BNN\": BNNWrapper,\n",
    "}\n",
    "SELECTOR_REGISTRY = {\n",
    "    \"Passive\": PassiveSelector,\n",
    "    \"QBC\": QBCSelector,\n",
    "    \"BALD\": BALDSelector,\n",
    "}\n",
    "\n",
    "# 1. Load and split the data\n",
    "# The path is relative to the notebook's location in src/notebooks/\n",
    "df = load_data(DATASET_NAME, base_path=Path(\"../data/processed\"))\n",
    "df_train, df_test, df_candidate = split_data(\n",
    "    df,\n",
    "    test_proportion=0.2,\n",
    "    candidate_proportion_of_remainder=0.8\n",
    ")\n",
    "\n",
    "# 2. Instantiate the model and selector\n",
    "model_class = MODEL_REGISTRY[MODEL_NAME]\n",
    "selector_class = SELECTOR_REGISTRY[SELECTOR_NAME]\n",
    "\n",
    "config_params = {\"random_state\": SEED, **ADDITIONAL_CONFIG}\n",
    "model = model_class(**config_params)\n",
    "selector = selector_class(**config_params)\n",
    "\n",
    "# 3. Create the simulation configuration object\n",
    "sim_config = SimulationConfig(\n",
    "    model=model,\n",
    "    selector=selector,\n",
    "    df_train=df_train,\n",
    "    df_test=df_test,\n",
    "    df_candidate=df_candidate,\n",
    ")\n",
    "\n",
    "# 4. Run the learning procedure!\n",
    "print(\"--- Starting Experiment ---\")\n",
    "result = run_learning_procedure(sim_config)\n",
    "print(\"--- Experiment Complete ---\")\n",
    "\n",
    "# 5. Save the results\n",
    "output_dir = Path(f\"../results/{DATASET_NAME}\")\n",
    "output_dir.mkdir(parents=True, exist_ok=True)\n",
    "filename = f\"{MODEL_NAME}_{SELECTOR_NAME}_seed{SEED}_notebook_run.pkl\"\n",
    "output_path = output_dir / filename\n",
    "\n",
    "with open(output_path, \"wb\") as f:\n",
    "    pickle.dump(result, f)\n",
    "\n",
    "print(f\"Results saved to: {output_path}\")"
   ]
  },
  {
   "cell_type": "markdown",
   "id": "97e2fa38",
   "metadata": {},
   "source": [
    "## Plot results"
   ]
  },
  {
   "cell_type": "code",
   "execution_count": 3,
   "id": "15f167ca",
   "metadata": {},
   "outputs": [
    {
     "ename": "NameError",
     "evalue": "name 'result' is not defined",
     "output_type": "error",
     "traceback": [
      "\u001b[0;31m---------------------------------------------------------------------------\u001b[0m",
      "\u001b[0;31mNameError\u001b[0m                                 Traceback (most recent call last)",
      "Cell \u001b[0;32mIn[3], line 5\u001b[0m\n\u001b[1;32m      2\u001b[0m plt\u001b[38;5;241m.\u001b[39mstyle\u001b[38;5;241m.\u001b[39muse(\u001b[38;5;124m'\u001b[39m\u001b[38;5;124mseaborn-v0_8-whitegrid\u001b[39m\u001b[38;5;124m'\u001b[39m)\n\u001b[1;32m      3\u001b[0m fig, ax \u001b[38;5;241m=\u001b[39m plt\u001b[38;5;241m.\u001b[39msubplots(figsize\u001b[38;5;241m=\u001b[39m(\u001b[38;5;241m10\u001b[39m, \u001b[38;5;241m6\u001b[39m))\n\u001b[0;32m----> 5\u001b[0m iterations \u001b[38;5;241m=\u001b[39m \u001b[38;5;28mrange\u001b[39m(\u001b[38;5;241m1\u001b[39m, \u001b[38;5;28mlen\u001b[39m(\u001b[43mresult\u001b[49m\u001b[38;5;241m.\u001b[39maccuracy_history) \u001b[38;5;241m+\u001b[39m \u001b[38;5;241m1\u001b[39m)\n\u001b[1;32m      6\u001b[0m ax\u001b[38;5;241m.\u001b[39mplot(iterations, result\u001b[38;5;241m.\u001b[39maccuracy_history, marker\u001b[38;5;241m=\u001b[39m\u001b[38;5;124m'\u001b[39m\u001b[38;5;124mo\u001b[39m\u001b[38;5;124m'\u001b[39m, linestyle\u001b[38;5;241m=\u001b[39m\u001b[38;5;124m'\u001b[39m\u001b[38;5;124m-\u001b[39m\u001b[38;5;124m'\u001b[39m, label\u001b[38;5;241m=\u001b[39m\u001b[38;5;124m'\u001b[39m\u001b[38;5;124mModel Accuracy\u001b[39m\u001b[38;5;124m'\u001b[39m)\n\u001b[1;32m      8\u001b[0m ax\u001b[38;5;241m.\u001b[39mset_title(\u001b[38;5;124mf\u001b[39m\u001b[38;5;124m\"\u001b[39m\u001b[38;5;124mAccuracy vs. Iteration (\u001b[39m\u001b[38;5;132;01m{\u001b[39;00mDATASET_NAME\u001b[38;5;132;01m}\u001b[39;00m\u001b[38;5;124m | \u001b[39m\u001b[38;5;132;01m{\u001b[39;00mMODEL_NAME\u001b[38;5;132;01m}\u001b[39;00m\u001b[38;5;124m | \u001b[39m\u001b[38;5;132;01m{\u001b[39;00mSELECTOR_NAME\u001b[38;5;132;01m}\u001b[39;00m\u001b[38;5;124m)\u001b[39m\u001b[38;5;124m\"\u001b[39m, fontsize\u001b[38;5;241m=\u001b[39m\u001b[38;5;241m16\u001b[39m)\n",
      "\u001b[0;31mNameError\u001b[0m: name 'result' is not defined"
     ]
    },
    {
     "data": {
      "image/png": "[encoded data removed]",
      "text/plain": [
       "<Figure size 1000x600 with 1 Axes>"
      ]
     },
     "metadata": {},
     "output_type": "display_data"
    }
   ],
   "source": [
    "# Create a plot of accuracy over the simulation\n",
    "plt.style.use('seaborn-v0_8-whitegrid')\n",
    "fig, ax = plt.subplots(figsize=(10, 6))\n",
    "\n",
    "iterations = range(1, len(result.accuracy_history) + 1)\n",
    "ax.plot(iterations, result.accuracy_history, marker='o', linestyle='-', label='Model Accuracy')\n",
    "\n",
    "ax.set_title(f\"Accuracy vs. Iteration ({DATASET_NAME} | {MODEL_NAME} | {SELECTOR_NAME})\", fontsize=16)\n",
    "ax.set_xlabel(\"Number of Labeled Samples Added\", fontsize=12)\n",
    "ax.set_ylabel(\"Test Set Accuracy\", fontsize=12)\n",
    "ax.legend()\n",
    "ax.grid(True)\n",
    "\n",
    "plt.show()"
   ]
  },
  {
   "cell_type": "markdown",
   "id": "d9a54270",
   "metadata": {},
   "source": []
  }
 ],
 "metadata": {
  "kernelspec": {
   "display_name": "rashomon-3.9",
   "language": "python",
   "name": "python3"
  },
  "language_info": {
   "codemirror_mode": {
    "name": "ipython",
    "version": 3
   },
   "file_extension": ".py",
   "mimetype": "text/x-python",
   "name": "python",
   "nbconvert_exporter": "python",
   "pygments_lexer": "ipython3",
   "version": "3.9.20"
  }
 },
 "nbformat": 4,
 "nbformat_minor": 5
}
