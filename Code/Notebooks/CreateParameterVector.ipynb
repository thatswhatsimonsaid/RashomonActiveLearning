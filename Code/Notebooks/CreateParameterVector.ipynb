{
 "cells": [
  {
   "cell_type": "markdown",
   "metadata": {},
   "source": [
    "# Packages"
   ]
  },
  {
   "cell_type": "code",
   "execution_count": 1,
   "metadata": {},
   "outputs": [],
   "source": [
    "### Import packages ###\n",
    "import itertools\n",
    "import numpy as np\n",
    "import pandas as pd\n",
    "import sys\n",
    "sys.path.append('..')\n",
    "from utils.Auxiliary import CreateParameterVectorFunction\n",
    "from utils.Auxiliary import FilterJobNames"
   ]
  },
  {
   "cell_type": "markdown",
   "metadata": {},
   "source": [
    "---"
   ]
  },
  {
   "cell_type": "markdown",
   "metadata": {},
   "source": [
    "# Create Parameter Vector"
   ]
  },
  {
   "cell_type": "code",
   "execution_count": 2,
   "metadata": {},
   "outputs": [],
   "source": [
    "# Done: Iris, MONK1, MONK3, Haberman\n",
    "# Need medium: FICO, COMPAS\n",
    "# Running: BankNote, BreastCancer\n",
    "# No Status: CarEvaluation"
   ]
  },
  {
   "cell_type": "code",
   "execution_count": 3,
   "metadata": {},
   "outputs": [],
   "source": [
    "# Data: Iris  MONK1  MONK3  Bar7 (10)  COMPAS (50) | BankNote (10)  BreastCancer (5)  CarEvaluation (10)  FICO (50)  Haberman\n",
    "Data = \"Iris\"\n",
    "ParameterVector = CreateParameterVectorFunction(Data = Data,\n",
    "                                  Seed = range(0,1),                     # range(0,50)\n",
    "                                  RashomonThreshold = 0.025,        # For TreeFarms\n",
    "                                  DiversityWeight = 0,          # For BatchQBC\n",
    "                                  DensityWeight = 0,            # For BatchQBC\n",
    "                                  BatchSize = 1,                           # 1 5 or 10\n",
    "                                  Partition = \"short\",                                # [short, medium, long, largemem, compute, cpu-g2-mem2x]\n",
    "                                  Time = \"11:59:00\",                                     # [00:59:00, 11:59:00, 6-23:59:00]\n",
    "                                  Memory = \"30000M\",                                   # [100M, 30000M, 100000M]\n",
    "                                  IncludePL_RF=True,       # Passive Learning with RandomForestClassifierPredictor\n",
    "                                  IncludePL_GPC=True,      # Passive Learning with GaussianProcessClassifierPredictor\n",
    "                                  IncludePL_BNN=True,      # Passive Learning with BayesianNeuralNetworkPredictor\n",
    "                                  IncludeBALD_BNN=True,    # BALD with BayesianNeuralNetworkPredictor\n",
    "                                  IncludeBALD_GPC=True,    # BALD with GaussianProcessClassifierPredictor\n",
    "                                  IncludeQBC_TreeFarms_Unique=True, # BatchQBC with TreeFarmsPredictor (UniqueErrorsInput=1)\n",
    "                                  IncludeQBC_TreeFarms_Duplicate=True, # BatchQBC with TreeFarmsPredictor (UniqueErrorsInput=0)\n",
    "                                  IncludeQBC_RF=True,      # BatchQBC with RandomForestClassifierPredictor\n",
    "                                  IncludeLFR_TreeFarms_Unique=True, #BatchQBC with LFRPredictor (UniqueErrorsInput=1)\n",
    "                                  IncludeLFR_TreeFarms_Duplicate=True, #BatchQBC with LFRPredictor (UniqueErrorsInput=0)\n",
    "                                  auto_tune_epsilon_for_lfr=True \n",
    "                                  )"
   ]
  },
  {
   "cell_type": "markdown",
   "metadata": {},
   "source": [
    "# Evaluate"
   ]
  },
  {
   "cell_type": "code",
   "execution_count": 4,
   "metadata": {},
   "outputs": [
    {
     "data": {
      "application/vnd.microsoft.datawrangler.viewer.v0+json": {
       "columns": [
        {
         "name": "index",
         "rawType": "int64",
         "type": "integer"
        },
        {
         "name": "BatchSize",
         "rawType": "int64",
         "type": "integer"
        },
        {
         "name": "CandidateProportion",
         "rawType": "float64",
         "type": "float"
        },
        {
         "name": "Data",
         "rawType": "object",
         "type": "string"
        },
        {
         "name": "DensityWeight",
         "rawType": "int64",
         "type": "integer"
        },
        {
         "name": "DiversityWeight",
         "rawType": "int64",
         "type": "integer"
        },
        {
         "name": "K_BALD_Samples",
         "rawType": "float64",
         "type": "float"
        },
        {
         "name": "Memory",
         "rawType": "object",
         "type": "string"
        },
        {
         "name": "ModelType",
         "rawType": "object",
         "type": "string"
        },
        {
         "name": "Partition",
         "rawType": "object",
         "type": "string"
        },
        {
         "name": "RashomonThreshold",
         "rawType": "float64",
         "type": "float"
        },
        {
         "name": "RashomonThresholdType",
         "rawType": "object",
         "type": "string"
        },
        {
         "name": "Seed",
         "rawType": "int64",
         "type": "integer"
        },
        {
         "name": "SelectorType",
         "rawType": "object",
         "type": "string"
        },
        {
         "name": "TestProportion",
         "rawType": "float64",
         "type": "float"
        },
        {
         "name": "Time",
         "rawType": "object",
         "type": "string"
        },
        {
         "name": "Type",
         "rawType": "object",
         "type": "string"
        },
        {
         "name": "UniqueErrorsInput",
         "rawType": "int64",
         "type": "integer"
        },
        {
         "name": "auto_tune_epsilon",
         "rawType": "bool",
         "type": "boolean"
        },
        {
         "name": "batch_size_train",
         "rawType": "float64",
         "type": "float"
        },
        {
         "name": "dropout_rate",
         "rawType": "float64",
         "type": "float"
        },
        {
         "name": "epochs",
         "rawType": "float64",
         "type": "float"
        },
        {
         "name": "hidden_size",
         "rawType": "float64",
         "type": "float"
        },
        {
         "name": "kernel_length_scale",
         "rawType": "float64",
         "type": "float"
        },
        {
         "name": "kernel_nu",
         "rawType": "float64",
         "type": "float"
        },
        {
         "name": "kernel_type",
         "rawType": "object",
         "type": "string"
        },
        {
         "name": "learning_rate",
         "rawType": "float64",
         "type": "float"
        },
        {
         "name": "max_iter_predict",
         "rawType": "float64",
         "type": "float"
        },
        {
         "name": "n_estimators",
         "rawType": "int64",
         "type": "integer"
        },
        {
         "name": "n_restarts_optimizer",
         "rawType": "float64",
         "type": "float"
        },
        {
         "name": "optimizer",
         "rawType": "object",
         "type": "string"
        },
        {
         "name": "regularization",
         "rawType": "float64",
         "type": "float"
        },
        {
         "name": "MethodName",
         "rawType": "object",
         "type": "string"
        },
        {
         "name": "JobName",
         "rawType": "object",
         "type": "string"
        },
        {
         "name": "Output",
         "rawType": "object",
         "type": "string"
        }
       ],
       "ref": "91b4d6ed-c982-44a9-aa0f-2fc912ff54d7",
       "rows": [
        [
         "0",
         "1",
         "0.8",
         "Iris",
         "0",
         "0",
         "0.0",
         "30000M",
         "RandomForestClassifierPredictor",
         "short",
         "0.0",
         "Adder",
         "0",
         "PassiveLearningSelector",
         "0.2",
         "11:59:00",
         "Classification",
         "0",
         "False",
         "0.0",
         "0.0",
         "0.0",
         "0.0",
         "0.0",
         "0.0",
         "",
         "0.0",
         "0.0",
         "100",
         "0.0",
         "",
         "0.01",
         "RF_PL",
         "0IS_RF_PL_B1",
         "Iris/RandomForestClassifierPredictor/Raw/0IS_RF_PL_B1.pkl"
        ],
        [
         "1",
         "1",
         "0.8",
         "Iris",
         "0",
         "0",
         "0.0",
         "30000M",
         "GaussianProcessClassifierPredictor",
         "short",
         "0.0",
         "Adder",
         "0",
         "PassiveLearningSelector",
         "0.2",
         "11:59:00",
         "Classification",
         "0",
         "False",
         "0.0",
         "0.0",
         "0.0",
         "0.0",
         "1.0",
         "1.5",
         "RBF",
         "0.0",
         "100.0",
         "0",
         "0.0",
         "fmin_l_bfgs_b",
         "0.0",
         "GPC_PL",
         "0IS_GPC_PL_B1_KTRBF_KLS1_KNU1.5",
         "Iris/GaussianProcessClassifierPredictor/Raw/0IS_GPC_PL_B1_KTRBF_KLS1_KNU1.5.pkl"
        ],
        [
         "2",
         "1",
         "0.8",
         "Iris",
         "0",
         "0",
         "20.0",
         "30000M",
         "BayesianNeuralNetworkPredictor",
         "short",
         "0.0",
         "Adder",
         "0",
         "PassiveLearningSelector",
         "0.2",
         "11:59:00",
         "Classification",
         "0",
         "False",
         "32.0",
         "0.2",
         "100.0",
         "50.0",
         "0.0",
         "0.0",
         "",
         "0.001",
         "0.0",
         "0",
         "0.0",
         "",
         "0.0",
         "BNN_PL",
         "0IS_BNN_PL_B1_HS50_DR2_E100_LR001_BST32",
         "Iris/BayesianNeuralNetworkPredictor/Raw/0IS_BNN_PL_B1_HS50_DR2_E100_LR001_BST32.pkl"
        ],
        [
         "3",
         "1",
         "0.8",
         "Iris",
         "0",
         "0",
         "20.0",
         "30000M",
         "BayesianNeuralNetworkPredictor",
         "short",
         "0.0",
         "Adder",
         "0",
         "BALDSelector",
         "0.2",
         "11:59:00",
         "Classification",
         "0",
         "False",
         "32.0",
         "0.2",
         "100.0",
         "50.0",
         "0.0",
         "0.0",
         "",
         "0.001",
         "0.0",
         "0",
         "0.0",
         "",
         "0.0",
         "BNN_BALD",
         "0IS_BNN_BALD_B1_HS50_DR2_E100_LR001_BST32_K20",
         "Iris/BayesianNeuralNetworkPredictor/Raw/0IS_BNN_BALD_B1_HS50_DR2_E100_LR001_BST32_K20.pkl"
        ],
        [
         "4",
         "1",
         "0.8",
         "Iris",
         "0",
         "0",
         "20.0",
         "30000M",
         "GaussianProcessClassifierPredictor",
         "short",
         "0.0",
         "Adder",
         "0",
         "BALDSelector",
         "0.2",
         "11:59:00",
         "Classification",
         "0",
         "False",
         "0.0",
         "0.0",
         "0.0",
         "0.0",
         "1.0",
         "1.5",
         "RBF",
         "0.0",
         "100.0",
         "0",
         "0.0",
         "fmin_l_bfgs_b",
         "0.0",
         "GPC_BALD",
         "0IS_GPC_BALD_B1_KTRBF_KLS1_KNU1.5_K20",
         "Iris/GaussianProcessClassifierPredictor/Raw/0IS_GPC_BALD_B1_KTRBF_KLS1_KNU1.5_K20.pkl"
        ],
        [
         "5",
         "1",
         "0.8",
         "Iris",
         "0",
         "0",
         "0.0",
         "30000M",
         "TreeFarmsPredictor",
         "short",
         "0.025",
         "Adder",
         "0",
         "BatchQBCSelector",
         "0.2",
         "11:59:00",
         "Classification",
         "1",
         "False",
         "0.0",
         "0.0",
         "0.0",
         "0.0",
         "0.0",
         "0.0",
         "",
         "0.0",
         "0.0",
         "100",
         "0.0",
         "",
         "0.01",
         "UNREAL_UEI1",
         "0IS_UNREAL_UEI1_A025_DW0_DEW0_B1",
         "Iris/TreeFarmsPredictor/Raw/0IS_UNREAL_UEI1_A025_DW0_DEW0_B1.pkl"
        ],
        [
         "6",
         "1",
         "0.8",
         "Iris",
         "0",
         "0",
         "0.0",
         "30000M",
         "TreeFarmsPredictor",
         "short",
         "0.025",
         "Adder",
         "0",
         "BatchQBCSelector",
         "0.2",
         "11:59:00",
         "Classification",
         "0",
         "False",
         "0.0",
         "0.0",
         "0.0",
         "0.0",
         "0.0",
         "0.0",
         "",
         "0.0",
         "0.0",
         "100",
         "0.0",
         "",
         "0.01",
         "DUREAL_UEI0",
         "0IS_DUREAL_UEI0_A025_DW0_DEW0_B1",
         "Iris/TreeFarmsPredictor/Raw/0IS_DUREAL_UEI0_A025_DW0_DEW0_B1.pkl"
        ],
        [
         "7",
         "1",
         "0.8",
         "Iris",
         "0",
         "0",
         "0.0",
         "30000M",
         "RandomForestClassifierPredictor",
         "short",
         "0.0",
         "Adder",
         "0",
         "BatchQBCSelector",
         "0.2",
         "11:59:00",
         "Classification",
         "0",
         "False",
         "0.0",
         "0.0",
         "0.0",
         "0.0",
         "0.0",
         "0.0",
         "",
         "0.0",
         "0.0",
         "100",
         "0.0",
         "",
         "0.01",
         "RF_QBC_UEI0",
         "0IS_RF_QBC_UEI0_DW0_DEW0_B1",
         "Iris/RandomForestClassifierPredictor/Raw/0IS_RF_QBC_UEI0_DW0_DEW0_B1.pkl"
        ],
        [
         "8",
         "1",
         "0.8",
         "Iris",
         "0",
         "0",
         "0.0",
         "30000M",
         "LFRPredictor",
         "short",
         "0.025",
         "Adder",
         "0",
         "BatchQBCSelector",
         "0.2",
         "11:59:00",
         "Classification",
         "1",
         "True",
         "0.0",
         "0.0",
         "0.0",
         "0.0",
         "0.0",
         "0.0",
         "",
         "0.0",
         "0.0",
         "100",
         "0.0",
         "",
         "0.01",
         "Ulfr_UEI1",
         "0IS_Ulfr_UEI1_A025_DW0_DEW0_B1_AT1",
         "Iris/LFRPredictor/Raw/0IS_Ulfr_UEI1_A025_DW0_DEW0_B1_AT1.pkl"
        ],
        [
         "9",
         "1",
         "0.8",
         "Iris",
         "0",
         "0",
         "0.0",
         "30000M",
         "LFRPredictor",
         "short",
         "0.025",
         "Adder",
         "0",
         "BatchQBCSelector",
         "0.2",
         "11:59:00",
         "Classification",
         "0",
         "True",
         "0.0",
         "0.0",
         "0.0",
         "0.0",
         "0.0",
         "0.0",
         "",
         "0.0",
         "0.0",
         "100",
         "0.0",
         "",
         "0.01",
         "Dlfr_UEI0",
         "0IS_Dlfr_UEI0_A025_DW0_DEW0_B1_AT1",
         "Iris/LFRPredictor/Raw/0IS_Dlfr_UEI0_A025_DW0_DEW0_B1_AT1.pkl"
        ]
       ],
       "shape": {
        "columns": 34,
        "rows": 10
       }
      },
      "text/html": [
       "<div>\n",
       "<style scoped>\n",
       "    .dataframe tbody tr th:only-of-type {\n",
       "        vertical-align: middle;\n",
       "    }\n",
       "\n",
       "    .dataframe tbody tr th {\n",
       "        vertical-align: top;\n",
       "    }\n",
       "\n",
       "    .dataframe thead th {\n",
       "        text-align: right;\n",
       "    }\n",
       "</style>\n",
       "<table border=\"1\" class=\"dataframe\">\n",
       "  <thead>\n",
       "    <tr style=\"text-align: right;\">\n",
       "      <th></th>\n",
       "      <th>BatchSize</th>\n",
       "      <th>CandidateProportion</th>\n",
       "      <th>Data</th>\n",
       "      <th>DensityWeight</th>\n",
       "      <th>DiversityWeight</th>\n",
       "      <th>K_BALD_Samples</th>\n",
       "      <th>Memory</th>\n",
       "      <th>ModelType</th>\n",
       "      <th>Partition</th>\n",
       "      <th>RashomonThreshold</th>\n",
       "      <th>...</th>\n",
       "      <th>kernel_type</th>\n",
       "      <th>learning_rate</th>\n",
       "      <th>max_iter_predict</th>\n",
       "      <th>n_estimators</th>\n",
       "      <th>n_restarts_optimizer</th>\n",
       "      <th>optimizer</th>\n",
       "      <th>regularization</th>\n",
       "      <th>MethodName</th>\n",
       "      <th>JobName</th>\n",
       "      <th>Output</th>\n",
       "    </tr>\n",
       "  </thead>\n",
       "  <tbody>\n",
       "    <tr>\n",
       "      <th>0</th>\n",
       "      <td>1</td>\n",
       "      <td>0.8</td>\n",
       "      <td>Iris</td>\n",
       "      <td>0</td>\n",
       "      <td>0</td>\n",
       "      <td>0.0</td>\n",
       "      <td>30000M</td>\n",
       "      <td>RandomForestClassifierPredictor</td>\n",
       "      <td>short</td>\n",
       "      <td>0.000</td>\n",
       "      <td>...</td>\n",
       "      <td></td>\n",
       "      <td>0.000</td>\n",
       "      <td>0.0</td>\n",
       "      <td>100</td>\n",
       "      <td>0.0</td>\n",
       "      <td></td>\n",
       "      <td>0.01</td>\n",
       "      <td>RF_PL</td>\n",
       "      <td>0IS_RF_PL_B1</td>\n",
       "      <td>Iris/RandomForestClassifierPredictor/Raw/0IS_R...</td>\n",
       "    </tr>\n",
       "    <tr>\n",
       "      <th>1</th>\n",
       "      <td>1</td>\n",
       "      <td>0.8</td>\n",
       "      <td>Iris</td>\n",
       "      <td>0</td>\n",
       "      <td>0</td>\n",
       "      <td>0.0</td>\n",
       "      <td>30000M</td>\n",
       "      <td>GaussianProcessClassifierPredictor</td>\n",
       "      <td>short</td>\n",
       "      <td>0.000</td>\n",
       "      <td>...</td>\n",
       "      <td>RBF</td>\n",
       "      <td>0.000</td>\n",
       "      <td>100.0</td>\n",
       "      <td>0</td>\n",
       "      <td>0.0</td>\n",
       "      <td>fmin_l_bfgs_b</td>\n",
       "      <td>0.00</td>\n",
       "      <td>GPC_PL</td>\n",
       "      <td>0IS_GPC_PL_B1_KTRBF_KLS1_KNU1.5</td>\n",
       "      <td>Iris/GaussianProcessClassifierPredictor/Raw/0I...</td>\n",
       "    </tr>\n",
       "    <tr>\n",
       "      <th>2</th>\n",
       "      <td>1</td>\n",
       "      <td>0.8</td>\n",
       "      <td>Iris</td>\n",
       "      <td>0</td>\n",
       "      <td>0</td>\n",
       "      <td>20.0</td>\n",
       "      <td>30000M</td>\n",
       "      <td>BayesianNeuralNetworkPredictor</td>\n",
       "      <td>short</td>\n",
       "      <td>0.000</td>\n",
       "      <td>...</td>\n",
       "      <td></td>\n",
       "      <td>0.001</td>\n",
       "      <td>0.0</td>\n",
       "      <td>0</td>\n",
       "      <td>0.0</td>\n",
       "      <td></td>\n",
       "      <td>0.00</td>\n",
       "      <td>BNN_PL</td>\n",
       "      <td>0IS_BNN_PL_B1_HS50_DR2_E100_LR001_BST32</td>\n",
       "      <td>Iris/BayesianNeuralNetworkPredictor/Raw/0IS_BN...</td>\n",
       "    </tr>\n",
       "    <tr>\n",
       "      <th>3</th>\n",
       "      <td>1</td>\n",
       "      <td>0.8</td>\n",
       "      <td>Iris</td>\n",
       "      <td>0</td>\n",
       "      <td>0</td>\n",
       "      <td>20.0</td>\n",
       "      <td>30000M</td>\n",
       "      <td>BayesianNeuralNetworkPredictor</td>\n",
       "      <td>short</td>\n",
       "      <td>0.000</td>\n",
       "      <td>...</td>\n",
       "      <td></td>\n",
       "      <td>0.001</td>\n",
       "      <td>0.0</td>\n",
       "      <td>0</td>\n",
       "      <td>0.0</td>\n",
       "      <td></td>\n",
       "      <td>0.00</td>\n",
       "      <td>BNN_BALD</td>\n",
       "      <td>0IS_BNN_BALD_B1_HS50_DR2_E100_LR001_BST32_K20</td>\n",
       "      <td>Iris/BayesianNeuralNetworkPredictor/Raw/0IS_BN...</td>\n",
       "    </tr>\n",
       "    <tr>\n",
       "      <th>4</th>\n",
       "      <td>1</td>\n",
       "      <td>0.8</td>\n",
       "      <td>Iris</td>\n",
       "      <td>0</td>\n",
       "      <td>0</td>\n",
       "      <td>20.0</td>\n",
       "      <td>30000M</td>\n",
       "      <td>GaussianProcessClassifierPredictor</td>\n",
       "      <td>short</td>\n",
       "      <td>0.000</td>\n",
       "      <td>...</td>\n",
       "      <td>RBF</td>\n",
       "      <td>0.000</td>\n",
       "      <td>100.0</td>\n",
       "      <td>0</td>\n",
       "      <td>0.0</td>\n",
       "      <td>fmin_l_bfgs_b</td>\n",
       "      <td>0.00</td>\n",
       "      <td>GPC_BALD</td>\n",
       "      <td>0IS_GPC_BALD_B1_KTRBF_KLS1_KNU1.5_K20</td>\n",
       "      <td>Iris/GaussianProcessClassifierPredictor/Raw/0I...</td>\n",
       "    </tr>\n",
       "    <tr>\n",
       "      <th>5</th>\n",
       "      <td>1</td>\n",
       "      <td>0.8</td>\n",
       "      <td>Iris</td>\n",
       "      <td>0</td>\n",
       "      <td>0</td>\n",
       "      <td>0.0</td>\n",
       "      <td>30000M</td>\n",
       "      <td>TreeFarmsPredictor</td>\n",
       "      <td>short</td>\n",
       "      <td>0.025</td>\n",
       "      <td>...</td>\n",
       "      <td></td>\n",
       "      <td>0.000</td>\n",
       "      <td>0.0</td>\n",
       "      <td>100</td>\n",
       "      <td>0.0</td>\n",
       "      <td></td>\n",
       "      <td>0.01</td>\n",
       "      <td>UNREAL_UEI1</td>\n",
       "      <td>0IS_UNREAL_UEI1_A025_DW0_DEW0_B1</td>\n",
       "      <td>Iris/TreeFarmsPredictor/Raw/0IS_UNREAL_UEI1_A0...</td>\n",
       "    </tr>\n",
       "    <tr>\n",
       "      <th>6</th>\n",
       "      <td>1</td>\n",
       "      <td>0.8</td>\n",
       "      <td>Iris</td>\n",
       "      <td>0</td>\n",
       "      <td>0</td>\n",
       "      <td>0.0</td>\n",
       "      <td>30000M</td>\n",
       "      <td>TreeFarmsPredictor</td>\n",
       "      <td>short</td>\n",
       "      <td>0.025</td>\n",
       "      <td>...</td>\n",
       "      <td></td>\n",
       "      <td>0.000</td>\n",
       "      <td>0.0</td>\n",
       "      <td>100</td>\n",
       "      <td>0.0</td>\n",
       "      <td></td>\n",
       "      <td>0.01</td>\n",
       "      <td>DUREAL_UEI0</td>\n",
       "      <td>0IS_DUREAL_UEI0_A025_DW0_DEW0_B1</td>\n",
       "      <td>Iris/TreeFarmsPredictor/Raw/0IS_DUREAL_UEI0_A0...</td>\n",
       "    </tr>\n",
       "    <tr>\n",
       "      <th>7</th>\n",
       "      <td>1</td>\n",
       "      <td>0.8</td>\n",
       "      <td>Iris</td>\n",
       "      <td>0</td>\n",
       "      <td>0</td>\n",
       "      <td>0.0</td>\n",
       "      <td>30000M</td>\n",
       "      <td>RandomForestClassifierPredictor</td>\n",
       "      <td>short</td>\n",
       "      <td>0.000</td>\n",
       "      <td>...</td>\n",
       "      <td></td>\n",
       "      <td>0.000</td>\n",
       "      <td>0.0</td>\n",
       "      <td>100</td>\n",
       "      <td>0.0</td>\n",
       "      <td></td>\n",
       "      <td>0.01</td>\n",
       "      <td>RF_QBC_UEI0</td>\n",
       "      <td>0IS_RF_QBC_UEI0_DW0_DEW0_B1</td>\n",
       "      <td>Iris/RandomForestClassifierPredictor/Raw/0IS_R...</td>\n",
       "    </tr>\n",
       "    <tr>\n",
       "      <th>8</th>\n",
       "      <td>1</td>\n",
       "      <td>0.8</td>\n",
       "      <td>Iris</td>\n",
       "      <td>0</td>\n",
       "      <td>0</td>\n",
       "      <td>0.0</td>\n",
       "      <td>30000M</td>\n",
       "      <td>LFRPredictor</td>\n",
       "      <td>short</td>\n",
       "      <td>0.025</td>\n",
       "      <td>...</td>\n",
       "      <td></td>\n",
       "      <td>0.000</td>\n",
       "      <td>0.0</td>\n",
       "      <td>100</td>\n",
       "      <td>0.0</td>\n",
       "      <td></td>\n",
       "      <td>0.01</td>\n",
       "      <td>Ulfr_UEI1</td>\n",
       "      <td>0IS_Ulfr_UEI1_A025_DW0_DEW0_B1_AT1</td>\n",
       "      <td>Iris/LFRPredictor/Raw/0IS_Ulfr_UEI1_A025_DW0_D...</td>\n",
       "    </tr>\n",
       "    <tr>\n",
       "      <th>9</th>\n",
       "      <td>1</td>\n",
       "      <td>0.8</td>\n",
       "      <td>Iris</td>\n",
       "      <td>0</td>\n",
       "      <td>0</td>\n",
       "      <td>0.0</td>\n",
       "      <td>30000M</td>\n",
       "      <td>LFRPredictor</td>\n",
       "      <td>short</td>\n",
       "      <td>0.025</td>\n",
       "      <td>...</td>\n",
       "      <td></td>\n",
       "      <td>0.000</td>\n",
       "      <td>0.0</td>\n",
       "      <td>100</td>\n",
       "      <td>0.0</td>\n",
       "      <td></td>\n",
       "      <td>0.01</td>\n",
       "      <td>Dlfr_UEI0</td>\n",
       "      <td>0IS_Dlfr_UEI0_A025_DW0_DEW0_B1_AT1</td>\n",
       "      <td>Iris/LFRPredictor/Raw/0IS_Dlfr_UEI0_A025_DW0_D...</td>\n",
       "    </tr>\n",
       "  </tbody>\n",
       "</table>\n",
       "<p>10 rows × 34 columns</p>\n",
       "</div>"
      ],
      "text/plain": [
       "   BatchSize  CandidateProportion  Data  DensityWeight  DiversityWeight  \\\n",
       "0          1                  0.8  Iris              0                0   \n",
       "1          1                  0.8  Iris              0                0   \n",
       "2          1                  0.8  Iris              0                0   \n",
       "3          1                  0.8  Iris              0                0   \n",
       "4          1                  0.8  Iris              0                0   \n",
       "5          1                  0.8  Iris              0                0   \n",
       "6          1                  0.8  Iris              0                0   \n",
       "7          1                  0.8  Iris              0                0   \n",
       "8          1                  0.8  Iris              0                0   \n",
       "9          1                  0.8  Iris              0                0   \n",
       "\n",
       "   K_BALD_Samples  Memory                           ModelType Partition  \\\n",
       "0             0.0  30000M     RandomForestClassifierPredictor     short   \n",
       "1             0.0  30000M  GaussianProcessClassifierPredictor     short   \n",
       "2            20.0  30000M      BayesianNeuralNetworkPredictor     short   \n",
       "3            20.0  30000M      BayesianNeuralNetworkPredictor     short   \n",
       "4            20.0  30000M  GaussianProcessClassifierPredictor     short   \n",
       "5             0.0  30000M                  TreeFarmsPredictor     short   \n",
       "6             0.0  30000M                  TreeFarmsPredictor     short   \n",
       "7             0.0  30000M     RandomForestClassifierPredictor     short   \n",
       "8             0.0  30000M                        LFRPredictor     short   \n",
       "9             0.0  30000M                        LFRPredictor     short   \n",
       "\n",
       "   RashomonThreshold  ... kernel_type  learning_rate max_iter_predict  \\\n",
       "0              0.000  ...                      0.000              0.0   \n",
       "1              0.000  ...         RBF          0.000            100.0   \n",
       "2              0.000  ...                      0.001              0.0   \n",
       "3              0.000  ...                      0.001              0.0   \n",
       "4              0.000  ...         RBF          0.000            100.0   \n",
       "5              0.025  ...                      0.000              0.0   \n",
       "6              0.025  ...                      0.000              0.0   \n",
       "7              0.000  ...                      0.000              0.0   \n",
       "8              0.025  ...                      0.000              0.0   \n",
       "9              0.025  ...                      0.000              0.0   \n",
       "\n",
       "   n_estimators n_restarts_optimizer      optimizer  regularization  \\\n",
       "0           100                  0.0                           0.01   \n",
       "1             0                  0.0  fmin_l_bfgs_b            0.00   \n",
       "2             0                  0.0                           0.00   \n",
       "3             0                  0.0                           0.00   \n",
       "4             0                  0.0  fmin_l_bfgs_b            0.00   \n",
       "5           100                  0.0                           0.01   \n",
       "6           100                  0.0                           0.01   \n",
       "7           100                  0.0                           0.01   \n",
       "8           100                  0.0                           0.01   \n",
       "9           100                  0.0                           0.01   \n",
       "\n",
       "    MethodName                                        JobName  \\\n",
       "0        RF_PL                                   0IS_RF_PL_B1   \n",
       "1       GPC_PL                0IS_GPC_PL_B1_KTRBF_KLS1_KNU1.5   \n",
       "2       BNN_PL        0IS_BNN_PL_B1_HS50_DR2_E100_LR001_BST32   \n",
       "3     BNN_BALD  0IS_BNN_BALD_B1_HS50_DR2_E100_LR001_BST32_K20   \n",
       "4     GPC_BALD          0IS_GPC_BALD_B1_KTRBF_KLS1_KNU1.5_K20   \n",
       "5  UNREAL_UEI1               0IS_UNREAL_UEI1_A025_DW0_DEW0_B1   \n",
       "6  DUREAL_UEI0               0IS_DUREAL_UEI0_A025_DW0_DEW0_B1   \n",
       "7  RF_QBC_UEI0                    0IS_RF_QBC_UEI0_DW0_DEW0_B1   \n",
       "8    Ulfr_UEI1             0IS_Ulfr_UEI1_A025_DW0_DEW0_B1_AT1   \n",
       "9    Dlfr_UEI0             0IS_Dlfr_UEI0_A025_DW0_DEW0_B1_AT1   \n",
       "\n",
       "                                              Output  \n",
       "0  Iris/RandomForestClassifierPredictor/Raw/0IS_R...  \n",
       "1  Iris/GaussianProcessClassifierPredictor/Raw/0I...  \n",
       "2  Iris/BayesianNeuralNetworkPredictor/Raw/0IS_BN...  \n",
       "3  Iris/BayesianNeuralNetworkPredictor/Raw/0IS_BN...  \n",
       "4  Iris/GaussianProcessClassifierPredictor/Raw/0I...  \n",
       "5  Iris/TreeFarmsPredictor/Raw/0IS_UNREAL_UEI1_A0...  \n",
       "6  Iris/TreeFarmsPredictor/Raw/0IS_DUREAL_UEI0_A0...  \n",
       "7  Iris/RandomForestClassifierPredictor/Raw/0IS_R...  \n",
       "8  Iris/LFRPredictor/Raw/0IS_Ulfr_UEI1_A025_DW0_D...  \n",
       "9  Iris/LFRPredictor/Raw/0IS_Dlfr_UEI0_A025_DW0_D...  \n",
       "\n",
       "[10 rows x 34 columns]"
      ]
     },
     "execution_count": 4,
     "metadata": {},
     "output_type": "execute_result"
    }
   ],
   "source": [
    "ParameterVector"
   ]
  },
  {
   "cell_type": "code",
   "execution_count": 5,
   "metadata": {},
   "outputs": [
    {
     "data": {
      "application/vnd.microsoft.datawrangler.viewer.v0+json": {
       "columns": [
        {
         "name": "index",
         "rawType": "int64",
         "type": "integer"
        },
        {
         "name": "JobName",
         "rawType": "object",
         "type": "string"
        }
       ],
       "ref": "17d51705-ab2f-48dc-ad5d-36b825f523be",
       "rows": [
        [
         "0",
         "0IS_RF_PL_B1"
        ],
        [
         "1",
         "0IS_GPC_PL_B1_KTRBF_KLS1_KNU1.5"
        ],
        [
         "2",
         "0IS_BNN_PL_B1_HS50_DR2_E100_LR001_BST32"
        ],
        [
         "3",
         "0IS_BNN_BALD_B1_HS50_DR2_E100_LR001_BST32_K20"
        ],
        [
         "4",
         "0IS_GPC_BALD_B1_KTRBF_KLS1_KNU1.5_K20"
        ],
        [
         "5",
         "0IS_UNREAL_UEI1_A025_DW0_DEW0_B1"
        ],
        [
         "6",
         "0IS_DUREAL_UEI0_A025_DW0_DEW0_B1"
        ],
        [
         "7",
         "0IS_RF_QBC_UEI0_DW0_DEW0_B1"
        ],
        [
         "8",
         "0IS_Ulfr_UEI1_A025_DW0_DEW0_B1_AT1"
        ],
        [
         "9",
         "0IS_Dlfr_UEI0_A025_DW0_DEW0_B1_AT1"
        ]
       ],
       "shape": {
        "columns": 1,
        "rows": 10
       }
      },
      "text/plain": [
       "0                                     0IS_RF_PL_B1\n",
       "1                  0IS_GPC_PL_B1_KTRBF_KLS1_KNU1.5\n",
       "2          0IS_BNN_PL_B1_HS50_DR2_E100_LR001_BST32\n",
       "3    0IS_BNN_BALD_B1_HS50_DR2_E100_LR001_BST32_K20\n",
       "4            0IS_GPC_BALD_B1_KTRBF_KLS1_KNU1.5_K20\n",
       "5                 0IS_UNREAL_UEI1_A025_DW0_DEW0_B1\n",
       "6                 0IS_DUREAL_UEI0_A025_DW0_DEW0_B1\n",
       "7                      0IS_RF_QBC_UEI0_DW0_DEW0_B1\n",
       "8               0IS_Ulfr_UEI1_A025_DW0_DEW0_B1_AT1\n",
       "9               0IS_Dlfr_UEI0_A025_DW0_DEW0_B1_AT1\n",
       "Name: JobName, dtype: object"
      ]
     },
     "execution_count": 5,
     "metadata": {},
     "output_type": "execute_result"
    }
   ],
   "source": [
    "ParameterVector[\"JobName\"]"
   ]
  },
  {
   "cell_type": "code",
   "execution_count": 6,
   "metadata": {},
   "outputs": [
    {
     "data": {
      "application/vnd.microsoft.datawrangler.viewer.v0+json": {
       "columns": [
        {
         "name": "index",
         "rawType": "int64",
         "type": "integer"
        },
        {
         "name": "Output",
         "rawType": "object",
         "type": "string"
        }
       ],
       "ref": "bc2c6121-800a-4eca-9410-3373e53f0c9b",
       "rows": [
        [
         "0",
         "Iris/RandomForestClassifierPredictor/Raw/0IS_RF_PL_B1.pkl"
        ],
        [
         "1",
         "Iris/GaussianProcessClassifierPredictor/Raw/0IS_GPC_PL_B1_KTRBF_KLS1_KNU1.5.pkl"
        ],
        [
         "2",
         "Iris/BayesianNeuralNetworkPredictor/Raw/0IS_BNN_PL_B1_HS50_DR2_E100_LR001_BST32.pkl"
        ],
        [
         "3",
         "Iris/BayesianNeuralNetworkPredictor/Raw/0IS_BNN_BALD_B1_HS50_DR2_E100_LR001_BST32_K20.pkl"
        ],
        [
         "4",
         "Iris/GaussianProcessClassifierPredictor/Raw/0IS_GPC_BALD_B1_KTRBF_KLS1_KNU1.5_K20.pkl"
        ],
        [
         "5",
         "Iris/TreeFarmsPredictor/Raw/0IS_UNREAL_UEI1_A025_DW0_DEW0_B1.pkl"
        ],
        [
         "6",
         "Iris/TreeFarmsPredictor/Raw/0IS_DUREAL_UEI0_A025_DW0_DEW0_B1.pkl"
        ],
        [
         "7",
         "Iris/RandomForestClassifierPredictor/Raw/0IS_RF_QBC_UEI0_DW0_DEW0_B1.pkl"
        ],
        [
         "8",
         "Iris/LFRPredictor/Raw/0IS_Ulfr_UEI1_A025_DW0_DEW0_B1_AT1.pkl"
        ],
        [
         "9",
         "Iris/LFRPredictor/Raw/0IS_Dlfr_UEI0_A025_DW0_DEW0_B1_AT1.pkl"
        ]
       ],
       "shape": {
        "columns": 1,
        "rows": 10
       }
      },
      "text/plain": [
       "0    Iris/RandomForestClassifierPredictor/Raw/0IS_R...\n",
       "1    Iris/GaussianProcessClassifierPredictor/Raw/0I...\n",
       "2    Iris/BayesianNeuralNetworkPredictor/Raw/0IS_BN...\n",
       "3    Iris/BayesianNeuralNetworkPredictor/Raw/0IS_BN...\n",
       "4    Iris/GaussianProcessClassifierPredictor/Raw/0I...\n",
       "5    Iris/TreeFarmsPredictor/Raw/0IS_UNREAL_UEI1_A0...\n",
       "6    Iris/TreeFarmsPredictor/Raw/0IS_DUREAL_UEI0_A0...\n",
       "7    Iris/RandomForestClassifierPredictor/Raw/0IS_R...\n",
       "8    Iris/LFRPredictor/Raw/0IS_Ulfr_UEI1_A025_DW0_D...\n",
       "9    Iris/LFRPredictor/Raw/0IS_Dlfr_UEI0_A025_DW0_D...\n",
       "Name: Output, dtype: object"
      ]
     },
     "execution_count": 6,
     "metadata": {},
     "output_type": "execute_result"
    }
   ],
   "source": [
    "ParameterVector[\"Output\"]"
   ]
  },
  {
   "cell_type": "markdown",
   "metadata": {},
   "source": [
    "# Only run these ones"
   ]
  },
  {
   "cell_type": "code",
   "execution_count": 7,
   "metadata": {},
   "outputs": [],
   "source": [
    "# # ### Simulations that failed ###\n",
    "# FilterText = ['26B7_UA02']\n",
    "# ParameterVector = FilterJobNames(ParameterVector,FilterText)\n",
    "# ParameterVector.index = range(0,len(ParameterVector))\n",
    "# ParameterVector"
   ]
  },
  {
   "cell_type": "markdown",
   "metadata": {},
   "source": [
    "---"
   ]
  },
  {
   "cell_type": "markdown",
   "metadata": {},
   "source": [
    "# Save Parameter Vector"
   ]
  },
  {
   "cell_type": "code",
   "execution_count": 8,
   "metadata": {},
   "outputs": [],
   "source": [
    "### Resave ###\n",
    "output_path = \"/Users/simondn/Documents/RashomonActiveLearning/Data/ParameterVectors/ParameterVector\" + str(Data) + \".csv\"\n",
    "ParameterVector.to_csv(output_path, index=False)"
   ]
  }
 ],
 "metadata": {
  "kernelspec": {
   "display_name": "Python 3",
   "language": "python",
   "name": "python3"
  },
  "language_info": {
   "codemirror_mode": {
    "name": "ipython",
    "version": 3
   },
   "file_extension": ".py",
   "mimetype": "text/x-python",
   "name": "python",
   "nbconvert_exporter": "python",
   "pygments_lexer": "ipython3",
   "version": "3.9.6"
  }
 },
 "nbformat": 4,
 "nbformat_minor": 2
}
