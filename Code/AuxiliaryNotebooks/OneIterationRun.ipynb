{
 "cells": [
  {
   "cell_type": "code",
   "execution_count": 1,
   "metadata": {},
   "outputs": [],
   "source": [
    "### Import packages ###\n",
    "import time\n",
    "import numpy as np\n",
    "import math as math\n",
    "import pandas as pd\n",
    "import random as random\n",
    "\n",
    "### Append Path ###\n",
    "import sys\n",
    "sys.path.append('..')\n",
    "\n",
    "### Import functions ###\n",
    "from utils.Main import *\n",
    "from utils.Selector import *\n",
    "from utils.Auxiliary import *\n",
    "from utils.Prediction import *"
   ]
  },
  {
   "cell_type": "markdown",
   "metadata": {},
   "source": [
    "# Inputs"
   ]
  },
  {
   "cell_type": "code",
   "execution_count": 2,
   "metadata": {},
   "outputs": [],
   "source": [
    "### Get Directory ###\n",
    "cwd = os.getcwd()\n",
    "ParentDirectory = os.path.abspath(os.path.join(cwd, \"..\",\"..\"))\n",
    "\n",
    "### DataType ###\n",
    "DataFileInput = \"BankNote\"  # BankNote  Bar7  BreastCancer  CarEvaluation  COMPAS  FICO  Haberman  Iris  MONK1  MONK3"
   ]
  },
  {
   "cell_type": "code",
   "execution_count": 3,
   "metadata": {},
   "outputs": [
    {
     "name": "stdout",
     "output_type": "stream",
     "text": [
      "Iteration: 0\n",
      "null\n",
      "treefarms reported successful execution\n",
      "training completed. Number of trees in the Rashomon set: 25\n",
      "Finding Optimal Objective...\n",
      "{\n",
      "  \"false\": {\n",
      "    \"false\": {\n",
      "      \"complexity\": 0.009999999776482582,\n",
      "      \"loss\": 0.004566209856420755,\n",
      "      \"name\": \"Y\",\n",
      "      \"prediction\": 0\n",
      "    },\n",
      "    \"feature\": 0,\n",
      "    \"name\": \"variance_leq_-3\",\n",
      "    \"reference\": 1,\n",
      "    \"relation\": \"==\",\n",
      "    \"true\": {\n",
      "      \"complexity\": 0.009999999776482582,\n",
      "      \"loss\": 0.0,\n",
      "      \"name\": \"Y\",\n",
      "      \"prediction\": 1\n",
      "    },\n",
      "    \"type\": \"integral\"\n",
      "  },\n",
      "  \"feature\": 5,\n",
      "  \"model_objective\": 0.09022830426692963,\n",
      "  \"name\": \"skewness_leq_5\",\n",
      "  \"reference\": 1,\n",
      "  \"relation\": \"==\",\n",
      "  \"true\": {\n",
      "    \"false\": {\n",
      "      \"complexity\": 0.009999999776482582,\n",
      "      \"loss\": 0.013698630034923553,\n",
      "      \"name\": \"Y\",\n",
      "      \"prediction\": 0\n",
      "    },\n",
      "    \"feature\": 3,\n",
      "    \"name\": \"variance_leq_1\",\n",
      "    \"reference\": 1,\n",
      "    \"relation\": \"==\",\n",
      "    \"true\": {\n",
      "      \"complexity\": 0.009999999776482582,\n",
      "      \"loss\": 0.031963467597961426,\n",
      "      \"name\": \"Y\",\n",
      "      \"prediction\": 1\n",
      "    },\n",
      "    \"type\": \"integral\"\n",
      "  },\n",
      "  \"type\": \"integral\"\n",
      "}\n",
      "Iteration: 1\n",
      "Iteration: 2\n",
      "Iteration: 3\n",
      "Iteration: 4\n",
      "Iteration: 5\n",
      "Iteration: 6\n",
      "Iteration: 7\n",
      "Iteration: 8\n",
      "Iteration: 9\n",
      "Iteration: 10\n",
      "Iteration: 11\n",
      "Iteration: 12\n",
      "Iteration: 13\n",
      "Iteration: 14\n",
      "Iteration: 15\n",
      "Iteration: 16\n",
      "Iteration: 17\n",
      "Iteration: 18\n",
      "Iteration: 19\n",
      "Iteration: 20\n",
      "Iteration: 21\n",
      "Iteration: 22\n",
      "Iteration: 23\n",
      "Iteration: 24\n",
      "Iteration: 25\n",
      "Iteration: 26\n",
      "Iteration: 27\n",
      "Iteration: 28\n",
      "Iteration: 29\n",
      "Iteration: 30\n",
      "Iteration: 31\n",
      "Iteration: 32\n",
      "Iteration: 33\n",
      "Iteration: 34\n",
      "Iteration: 35\n",
      "Iteration: 36\n",
      "Iteration: 37\n",
      "Iteration: 38\n",
      "Iteration: 39\n",
      "Iteration: 40\n",
      "Iteration: 41\n",
      "Iteration: 42\n",
      "Iteration: 43\n",
      "Iteration: 44\n",
      "Iteration: 45\n",
      "Iteration: 46\n",
      "Iteration: 47\n",
      "Iteration: 48\n",
      "Iteration: 49\n",
      "Iteration: 50\n",
      "Iteration: 51\n",
      "Iteration: 52\n",
      "Iteration: 53\n",
      "Iteration: 54\n",
      "Iteration: 55\n",
      "Iteration: 56\n",
      "Iteration: 57\n",
      "Iteration: 58\n",
      "Iteration: 59\n",
      "Iteration: 60\n",
      "Iteration: 61\n",
      "Iteration: 62\n",
      "Iteration: 63\n",
      "Iteration: 64\n",
      "Iteration: 65\n",
      "Iteration: 66\n",
      "Iteration: 67\n",
      "Iteration: 68\n",
      "Iteration: 69\n",
      "Iteration: 70\n",
      "Iteration: 71\n",
      "Iteration: 72\n",
      "Iteration: 73\n",
      "Iteration: 74\n",
      "Iteration: 75\n",
      "Iteration: 76\n",
      "Iteration: 77\n",
      "Iteration: 78\n",
      "Iteration: 79\n",
      "Iteration: 80\n",
      "Iteration: 81\n",
      "Iteration: 82\n",
      "Iteration: 83\n",
      "Iteration: 84\n",
      "Iteration: 85\n",
      "Iteration: 86\n",
      "Iteration: 87\n",
      "Iteration: 88\n",
      "Iteration: 89\n",
      "Iteration: 90\n",
      "Iteration: 91\n",
      "Iteration: 92\n",
      "Iteration: 93\n",
      "Iteration: 94\n",
      "Iteration: 95\n",
      "Iteration: 96\n",
      "Iteration: 97\n",
      "Iteration: 98\n",
      "Iteration: 99\n",
      "Iteration: 100\n",
      "Iteration: 101\n",
      "Iteration: 102\n",
      "Iteration: 103\n",
      "Iteration: 104\n",
      "Iteration: 105\n",
      "Iteration: 106\n",
      "Iteration: 107\n",
      "Iteration: 108\n",
      "Iteration: 109\n",
      "Iteration: 110\n",
      "Iteration: 111\n",
      "Iteration: 112\n",
      "Iteration: 113\n",
      "Iteration: 114\n",
      "Iteration: 115\n",
      "Iteration: 116\n",
      "Iteration: 117\n",
      "Iteration: 118\n",
      "Iteration: 119\n",
      "Iteration: 120\n",
      "Iteration: 121\n",
      "Iteration: 122\n",
      "Iteration: 123\n",
      "Iteration: 124\n",
      "Iteration: 125\n"
     ]
    }
   ],
   "source": [
    "SimulationConfigInput = {'DataFileInput': DataFileInput,\n",
    "    'Seed': 1,\n",
    "    'TestProportion': 0.2,\n",
    "    'CandidateProportion': 0.8,\n",
    "    'SelectorType': 'BatchQBCSelector', # PassiveLearningSelector, BALDSelector, BatchQBCSelector\n",
    "    'ModelType': 'LFRPredictor', # RandomForestClassifierPredictor, BayesianNeuralNetworkPredictor, GaussianProcessClassifierPredictor, TreeFarmsPredictor, LFRPredictor\n",
    "    'UniqueErrorsInput': 0,\n",
    "    'n_estimators': 100,\n",
    "    'regularization': 0.01,\n",
    "    'RashomonThresholdType': \"Adder\",\n",
    "    'RashomonThreshold': 0.1,\n",
    "    'Type': 'Classification',\n",
    "    \"DiversityWeight\" : 0,\n",
    "    \"DensityWeight\" : 0,\n",
    "    \"BatchSize\" : 7,\n",
    "    \"auto_tune_epsilon\" : False}\n",
    "Results = OneIterationFunction(SimulationConfigInput)\n"
   ]
  },
  {
   "cell_type": "code",
   "execution_count": 7,
   "metadata": {},
   "outputs": [
    {
     "data": {
      "application/vnd.microsoft.datawrangler.viewer.v0+json": {
       "columns": [
        {
         "name": "index",
         "rawType": "int64",
         "type": "integer"
        },
        {
         "name": "RefitDecision",
         "rawType": "int64",
         "type": "integer"
        }
       ],
       "ref": "166b749c-88b2-4fc3-93b0-5ba7837099c3",
       "rows": [
        [
         "0",
         "1"
        ],
        [
         "1",
         "0"
        ],
        [
         "2",
         "0"
        ],
        [
         "3",
         "0"
        ],
        [
         "4",
         "0"
        ],
        [
         "5",
         "0"
        ],
        [
         "6",
         "0"
        ],
        [
         "7",
         "0"
        ],
        [
         "8",
         "0"
        ],
        [
         "9",
         "0"
        ],
        [
         "10",
         "0"
        ],
        [
         "11",
         "0"
        ],
        [
         "12",
         "0"
        ],
        [
         "13",
         "0"
        ],
        [
         "14",
         "0"
        ],
        [
         "15",
         "0"
        ],
        [
         "16",
         "0"
        ],
        [
         "17",
         "0"
        ],
        [
         "18",
         "0"
        ],
        [
         "19",
         "0"
        ],
        [
         "20",
         "0"
        ],
        [
         "21",
         "0"
        ],
        [
         "22",
         "0"
        ],
        [
         "23",
         "0"
        ],
        [
         "24",
         "0"
        ],
        [
         "25",
         "0"
        ],
        [
         "26",
         "0"
        ],
        [
         "27",
         "0"
        ],
        [
         "28",
         "0"
        ],
        [
         "29",
         "0"
        ],
        [
         "30",
         "0"
        ],
        [
         "31",
         "0"
        ],
        [
         "32",
         "0"
        ],
        [
         "33",
         "0"
        ],
        [
         "34",
         "0"
        ],
        [
         "35",
         "0"
        ],
        [
         "36",
         "0"
        ],
        [
         "37",
         "0"
        ],
        [
         "38",
         "0"
        ],
        [
         "39",
         "0"
        ],
        [
         "40",
         "0"
        ],
        [
         "41",
         "0"
        ],
        [
         "42",
         "0"
        ],
        [
         "43",
         "0"
        ],
        [
         "44",
         "0"
        ],
        [
         "45",
         "0"
        ],
        [
         "46",
         "0"
        ],
        [
         "47",
         "0"
        ],
        [
         "48",
         "0"
        ],
        [
         "49",
         "0"
        ]
       ],
       "shape": {
        "columns": 1,
        "rows": 126
       }
      },
      "text/html": [
       "<div>\n",
       "<style scoped>\n",
       "    .dataframe tbody tr th:only-of-type {\n",
       "        vertical-align: middle;\n",
       "    }\n",
       "\n",
       "    .dataframe tbody tr th {\n",
       "        vertical-align: top;\n",
       "    }\n",
       "\n",
       "    .dataframe thead th {\n",
       "        text-align: right;\n",
       "    }\n",
       "</style>\n",
       "<table border=\"1\" class=\"dataframe\">\n",
       "  <thead>\n",
       "    <tr style=\"text-align: right;\">\n",
       "      <th></th>\n",
       "      <th>RefitDecision</th>\n",
       "    </tr>\n",
       "  </thead>\n",
       "  <tbody>\n",
       "    <tr>\n",
       "      <th>0</th>\n",
       "      <td>1</td>\n",
       "    </tr>\n",
       "    <tr>\n",
       "      <th>1</th>\n",
       "      <td>0</td>\n",
       "    </tr>\n",
       "    <tr>\n",
       "      <th>2</th>\n",
       "      <td>0</td>\n",
       "    </tr>\n",
       "    <tr>\n",
       "      <th>3</th>\n",
       "      <td>0</td>\n",
       "    </tr>\n",
       "    <tr>\n",
       "      <th>4</th>\n",
       "      <td>0</td>\n",
       "    </tr>\n",
       "    <tr>\n",
       "      <th>...</th>\n",
       "      <td>...</td>\n",
       "    </tr>\n",
       "    <tr>\n",
       "      <th>121</th>\n",
       "      <td>0</td>\n",
       "    </tr>\n",
       "    <tr>\n",
       "      <th>122</th>\n",
       "      <td>0</td>\n",
       "    </tr>\n",
       "    <tr>\n",
       "      <th>123</th>\n",
       "      <td>0</td>\n",
       "    </tr>\n",
       "    <tr>\n",
       "      <th>124</th>\n",
       "      <td>0</td>\n",
       "    </tr>\n",
       "    <tr>\n",
       "      <th>125</th>\n",
       "      <td>0</td>\n",
       "    </tr>\n",
       "  </tbody>\n",
       "</table>\n",
       "<p>126 rows × 1 columns</p>\n",
       "</div>"
      ],
      "text/plain": [
       "     RefitDecision\n",
       "0                1\n",
       "1                0\n",
       "2                0\n",
       "3                0\n",
       "4                0\n",
       "..             ...\n",
       "121              0\n",
       "122              0\n",
       "123              0\n",
       "124              0\n",
       "125              0\n",
       "\n",
       "[126 rows x 1 columns]"
      ]
     },
     "execution_count": 7,
     "metadata": {},
     "output_type": "execute_result"
    }
   ],
   "source": [
    "Results[\"RefitDecisionVec\"]"
   ]
  },
  {
   "cell_type": "code",
   "execution_count": 10,
   "metadata": {},
   "outputs": [
    {
     "data": {
      "application/vnd.microsoft.datawrangler.viewer.v0+json": {
       "columns": [
        {
         "name": "index",
         "rawType": "int64",
         "type": "integer"
        },
        {
         "name": "Epsilon",
         "rawType": "float64",
         "type": "float"
        }
       ],
       "ref": "67c424c6-7040-49e1-a6da-5764270d53d2",
       "rows": [
        [
         "0",
         "0.1"
        ],
        [
         "1",
         "0.1"
        ],
        [
         "2",
         "0.1"
        ],
        [
         "3",
         "0.1"
        ],
        [
         "4",
         "0.1"
        ],
        [
         "5",
         "0.1"
        ],
        [
         "6",
         "0.1"
        ],
        [
         "7",
         "0.1"
        ],
        [
         "8",
         "0.1"
        ],
        [
         "9",
         "0.1"
        ],
        [
         "10",
         "0.1"
        ],
        [
         "11",
         "0.1"
        ],
        [
         "12",
         "0.1"
        ],
        [
         "13",
         "0.1"
        ],
        [
         "14",
         "0.1"
        ],
        [
         "15",
         "0.1"
        ],
        [
         "16",
         "0.1"
        ],
        [
         "17",
         "0.1"
        ],
        [
         "18",
         "0.1"
        ],
        [
         "19",
         "0.1"
        ],
        [
         "20",
         "0.1"
        ],
        [
         "21",
         "0.1"
        ],
        [
         "22",
         "0.1"
        ],
        [
         "23",
         "0.1"
        ],
        [
         "24",
         "0.1"
        ],
        [
         "25",
         "0.1"
        ],
        [
         "26",
         "0.1"
        ],
        [
         "27",
         "0.1"
        ],
        [
         "28",
         "0.1"
        ],
        [
         "29",
         "0.1"
        ],
        [
         "30",
         "0.1"
        ],
        [
         "31",
         "0.1"
        ],
        [
         "32",
         "0.1"
        ],
        [
         "33",
         "0.1"
        ],
        [
         "34",
         "0.1"
        ],
        [
         "35",
         "0.1"
        ],
        [
         "36",
         "0.1"
        ],
        [
         "37",
         "0.1"
        ],
        [
         "38",
         "0.1"
        ],
        [
         "39",
         "0.1"
        ],
        [
         "40",
         "0.1"
        ],
        [
         "41",
         "0.1"
        ],
        [
         "42",
         "0.1"
        ],
        [
         "43",
         "0.1"
        ],
        [
         "44",
         "0.1"
        ],
        [
         "45",
         "0.1"
        ],
        [
         "46",
         "0.1"
        ],
        [
         "47",
         "0.1"
        ],
        [
         "48",
         "0.1"
        ],
        [
         "49",
         "0.1"
        ]
       ],
       "shape": {
        "columns": 1,
        "rows": 126
       }
      },
      "text/html": [
       "<div>\n",
       "<style scoped>\n",
       "    .dataframe tbody tr th:only-of-type {\n",
       "        vertical-align: middle;\n",
       "    }\n",
       "\n",
       "    .dataframe tbody tr th {\n",
       "        vertical-align: top;\n",
       "    }\n",
       "\n",
       "    .dataframe thead th {\n",
       "        text-align: right;\n",
       "    }\n",
       "</style>\n",
       "<table border=\"1\" class=\"dataframe\">\n",
       "  <thead>\n",
       "    <tr style=\"text-align: right;\">\n",
       "      <th></th>\n",
       "      <th>Epsilon</th>\n",
       "    </tr>\n",
       "  </thead>\n",
       "  <tbody>\n",
       "    <tr>\n",
       "      <th>0</th>\n",
       "      <td>0.1</td>\n",
       "    </tr>\n",
       "    <tr>\n",
       "      <th>1</th>\n",
       "      <td>0.1</td>\n",
       "    </tr>\n",
       "    <tr>\n",
       "      <th>2</th>\n",
       "      <td>0.1</td>\n",
       "    </tr>\n",
       "    <tr>\n",
       "      <th>3</th>\n",
       "      <td>0.1</td>\n",
       "    </tr>\n",
       "    <tr>\n",
       "      <th>4</th>\n",
       "      <td>0.1</td>\n",
       "    </tr>\n",
       "    <tr>\n",
       "      <th>...</th>\n",
       "      <td>...</td>\n",
       "    </tr>\n",
       "    <tr>\n",
       "      <th>121</th>\n",
       "      <td>0.1</td>\n",
       "    </tr>\n",
       "    <tr>\n",
       "      <th>122</th>\n",
       "      <td>0.1</td>\n",
       "    </tr>\n",
       "    <tr>\n",
       "      <th>123</th>\n",
       "      <td>0.1</td>\n",
       "    </tr>\n",
       "    <tr>\n",
       "      <th>124</th>\n",
       "      <td>0.1</td>\n",
       "    </tr>\n",
       "    <tr>\n",
       "      <th>125</th>\n",
       "      <td>0.1</td>\n",
       "    </tr>\n",
       "  </tbody>\n",
       "</table>\n",
       "<p>126 rows × 1 columns</p>\n",
       "</div>"
      ],
      "text/plain": [
       "     Epsilon\n",
       "0        0.1\n",
       "1        0.1\n",
       "2        0.1\n",
       "3        0.1\n",
       "4        0.1\n",
       "..       ...\n",
       "121      0.1\n",
       "122      0.1\n",
       "123      0.1\n",
       "124      0.1\n",
       "125      0.1\n",
       "\n",
       "[126 rows x 1 columns]"
      ]
     },
     "execution_count": 10,
     "metadata": {},
     "output_type": "execute_result"
    }
   ],
   "source": [
    "Results[\"EpsilonVec\"]"
   ]
  },
  {
   "cell_type": "code",
   "execution_count": 6,
   "metadata": {},
   "outputs": [
    {
     "data": {
      "application/vnd.microsoft.datawrangler.viewer.v0+json": {
       "columns": [
        {
         "name": "index",
         "rawType": "int64",
         "type": "integer"
        },
        {
         "name": "Error",
         "rawType": "float64",
         "type": "float"
        }
       ],
       "ref": "217586d5-209e-43b2-8552-00f3ae20db97",
       "rows": [
        [
         "0",
         "0.8981818181818182"
        ],
        [
         "1",
         "0.8981818181818182"
        ],
        [
         "2",
         "0.8981818181818182"
        ],
        [
         "3",
         "0.8981818181818182"
        ],
        [
         "4",
         "0.8981818181818182"
        ],
        [
         "5",
         "0.8981818181818182"
        ],
        [
         "6",
         "0.8981818181818182"
        ],
        [
         "7",
         "0.8981818181818182"
        ],
        [
         "8",
         "0.8981818181818182"
        ],
        [
         "9",
         "0.8981818181818182"
        ],
        [
         "10",
         "0.9490909090909091"
        ],
        [
         "11",
         "0.8981818181818182"
        ],
        [
         "12",
         "0.8981818181818182"
        ],
        [
         "13",
         "0.8981818181818182"
        ],
        [
         "14",
         "0.8981818181818182"
        ],
        [
         "15",
         "0.8981818181818182"
        ],
        [
         "16",
         "0.8981818181818182"
        ],
        [
         "17",
         "0.8981818181818182"
        ],
        [
         "18",
         "0.8981818181818182"
        ],
        [
         "19",
         "0.8981818181818182"
        ],
        [
         "20",
         "0.92"
        ],
        [
         "21",
         "0.8981818181818182"
        ],
        [
         "22",
         "0.8981818181818182"
        ],
        [
         "23",
         "0.8981818181818182"
        ],
        [
         "24",
         "0.8981818181818182"
        ],
        [
         "25",
         "0.8981818181818182"
        ],
        [
         "26",
         "0.8981818181818182"
        ],
        [
         "27",
         "0.8981818181818182"
        ],
        [
         "28",
         "0.9018181818181819"
        ],
        [
         "29",
         "0.8981818181818182"
        ],
        [
         "30",
         "0.8981818181818182"
        ],
        [
         "31",
         "0.8981818181818182"
        ],
        [
         "32",
         "0.8981818181818182"
        ],
        [
         "33",
         "0.8981818181818182"
        ],
        [
         "34",
         "0.8981818181818182"
        ],
        [
         "35",
         "0.8981818181818182"
        ],
        [
         "36",
         "0.8981818181818182"
        ],
        [
         "37",
         "0.8981818181818182"
        ],
        [
         "38",
         "0.8981818181818182"
        ],
        [
         "39",
         "0.8981818181818182"
        ],
        [
         "40",
         "0.8981818181818182"
        ],
        [
         "41",
         "0.8981818181818182"
        ],
        [
         "42",
         "0.8981818181818182"
        ],
        [
         "43",
         "0.8981818181818182"
        ],
        [
         "44",
         "0.8981818181818182"
        ],
        [
         "45",
         "0.8981818181818182"
        ],
        [
         "46",
         "0.8981818181818182"
        ],
        [
         "47",
         "0.8981818181818182"
        ],
        [
         "48",
         "0.8981818181818182"
        ],
        [
         "49",
         "0.8981818181818182"
        ]
       ],
       "shape": {
        "columns": 1,
        "rows": 126
       }
      },
      "text/html": [
       "<div>\n",
       "<style scoped>\n",
       "    .dataframe tbody tr th:only-of-type {\n",
       "        vertical-align: middle;\n",
       "    }\n",
       "\n",
       "    .dataframe tbody tr th {\n",
       "        vertical-align: top;\n",
       "    }\n",
       "\n",
       "    .dataframe thead th {\n",
       "        text-align: right;\n",
       "    }\n",
       "</style>\n",
       "<table border=\"1\" class=\"dataframe\">\n",
       "  <thead>\n",
       "    <tr style=\"text-align: right;\">\n",
       "      <th></th>\n",
       "      <th>Error</th>\n",
       "    </tr>\n",
       "  </thead>\n",
       "  <tbody>\n",
       "    <tr>\n",
       "      <th>0</th>\n",
       "      <td>0.898182</td>\n",
       "    </tr>\n",
       "    <tr>\n",
       "      <th>1</th>\n",
       "      <td>0.898182</td>\n",
       "    </tr>\n",
       "    <tr>\n",
       "      <th>2</th>\n",
       "      <td>0.898182</td>\n",
       "    </tr>\n",
       "    <tr>\n",
       "      <th>3</th>\n",
       "      <td>0.898182</td>\n",
       "    </tr>\n",
       "    <tr>\n",
       "      <th>4</th>\n",
       "      <td>0.898182</td>\n",
       "    </tr>\n",
       "    <tr>\n",
       "      <th>...</th>\n",
       "      <td>...</td>\n",
       "    </tr>\n",
       "    <tr>\n",
       "      <th>121</th>\n",
       "      <td>0.898182</td>\n",
       "    </tr>\n",
       "    <tr>\n",
       "      <th>122</th>\n",
       "      <td>0.898182</td>\n",
       "    </tr>\n",
       "    <tr>\n",
       "      <th>123</th>\n",
       "      <td>0.898182</td>\n",
       "    </tr>\n",
       "    <tr>\n",
       "      <th>124</th>\n",
       "      <td>0.898182</td>\n",
       "    </tr>\n",
       "    <tr>\n",
       "      <th>125</th>\n",
       "      <td>0.898182</td>\n",
       "    </tr>\n",
       "  </tbody>\n",
       "</table>\n",
       "<p>126 rows × 1 columns</p>\n",
       "</div>"
      ],
      "text/plain": [
       "        Error\n",
       "0    0.898182\n",
       "1    0.898182\n",
       "2    0.898182\n",
       "3    0.898182\n",
       "4    0.898182\n",
       "..        ...\n",
       "121  0.898182\n",
       "122  0.898182\n",
       "123  0.898182\n",
       "124  0.898182\n",
       "125  0.898182\n",
       "\n",
       "[126 rows x 1 columns]"
      ]
     },
     "execution_count": 6,
     "metadata": {},
     "output_type": "execute_result"
    }
   ],
   "source": [
    "Results[\"ErrorVec\"]"
   ]
  }
 ],
 "metadata": {
  "kernelspec": {
   "display_name": "rashomon-3.9",
   "language": "python",
   "name": "python3"
  },
  "language_info": {
   "codemirror_mode": {
    "name": "ipython",
    "version": 3
   },
   "file_extension": ".py",
   "mimetype": "text/x-python",
   "name": "python",
   "nbconvert_exporter": "python",
   "pygments_lexer": "ipython3",
   "version": "3.9.20"
  }
 },
 "nbformat": 4,
 "nbformat_minor": 4
}
